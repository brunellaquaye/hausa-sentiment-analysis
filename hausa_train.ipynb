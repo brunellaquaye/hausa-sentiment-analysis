{
 "cells": [
  {
   "cell_type": "markdown",
   "id": "9d0cdd6f",
   "metadata": {},
   "source": [
    "# Hausa Sentiment Analysis: Model Training\n",
    "\n",
    "This notebook demonstrates how to fine-tune the HausaBERTa transformer model on the preprocessed Hausa sentiment dataset."
   ]
  },
  {
   "cell_type": "code",
   "execution_count": 1,
   "id": "13e6e010",
   "metadata": {},
   "outputs": [
    {
     "name": "stdout",
     "output_type": "stream",
     "text": [
      "Sample preprocessed train text:\n",
      "['da kudin da arewa babu wani abin azo agani da yayi wa alummah allah ya isa yacucemu wlh yarikitamana kasa yarikitamana kasuwanci harkar ilimi harkar lfy hanyoyi babu lantarki dasuransu komai yalalace ga cinhanci da rashawa a fili ko ina a nigeria jamiyaryar su tabataman mlm ', 'kaga wani adu ar banda wai a haka shi ne shugaban sojoji.... gaskiya buhari kaci amanan mu da kasa wannan mutum ah wajen nan', 'sai haquri fa yan madrid daman kunce champion din ya muku yawa', 'hmmm yanzu kai kasan girman allah daxakace mukuma ga allah kune kukabarshi kuna karyata ayoyinsa kace allah baya karbar adduar talakan nigeria  bayan kunzalunceshi kuma allah ya karbar adduar wanda aka zalunta cikin sauri amma kace wai allah baya karbar addua talakawa', 'wai gwamno nin nigeria suna afa kwayoyi ko ']\n",
      "Sample train labels:\n",
      "[2, 2, 2, 2, 2]\n"
     ]
    }
   ],
   "source": [
    "# Load Preprocessed Cleaned Data\n",
    "import pandas as pd\n",
    "train_df = pd.read_csv('data/afrisenti_twitter_hausa_train_clean.csv')\n",
    "val_df = pd.read_csv('data/afrisenti_twitter_hausa_validation_clean.csv')\n",
    "test_df = pd.read_csv('data/afrisenti_twitter_hausa_test_clean.csv')\n",
    "\n",
    "train_texts = train_df['tweet_clean'].tolist()\n",
    "val_texts = val_df['tweet_clean'].tolist()\n",
    "train_labels = train_df['label'].tolist()\n",
    "val_labels = val_df['label'].tolist()\n",
    "\n",
    "print('Sample preprocessed train text:')\n",
    "print(train_texts[:5])\n",
    "print('Sample train labels:')\n",
    "print(train_labels[:5])"
   ]
  },
  {
   "cell_type": "code",
   "execution_count": 2,
   "id": "04cc723a",
   "metadata": {},
   "outputs": [
    {
     "name": "stdout",
     "output_type": "stream",
     "text": [
      "Validation Accuracy: 0.7340\n",
      "Validation Macro F1: 0.7361\n",
      "              precision    recall  f1-score   support\n",
      "\n",
      "           0       0.87      0.80      0.83       887\n",
      "           1       0.65      0.74      0.69       896\n",
      "           2       0.71      0.67      0.69       894\n",
      "\n",
      "    accuracy                           0.73      2677\n",
      "   macro avg       0.74      0.73      0.74      2677\n",
      "weighted avg       0.74      0.73      0.74      2677\n",
      "\n",
      "Model and encoder saved.\n"
     ]
    }
   ],
   "source": [
    "import pandas as pd\n",
    "import numpy as np\n",
    "from sklearn.feature_extraction.text import TfidfVectorizer\n",
    "from sklearn.linear_model import LogisticRegression\n",
    "from sklearn.svm import LinearSVC\n",
    "from sklearn.ensemble import RandomForestClassifier\n",
    "from sklearn.pipeline import Pipeline\n",
    "from sklearn.metrics import classification_report, accuracy_score, f1_score\n",
    "from sklearn.preprocessing import LabelEncoder\n",
    "import joblib\n",
    "import os\n",
    "from datetime import datetime\n",
    "import re\n",
    "import sys\n",
    "sys.path.append('.')\n",
    "from hausa_preprocess import HausaTextPreprocessor\n",
    "\n",
    "# Load cleaned Hausa sentiment data\n",
    "train_df = pd.read_csv('data/afrisenti_twitter_hausa_train_clean.csv')\n",
    "val_df = pd.read_csv('data/afrisenti_twitter_hausa_validation_clean.csv')\n",
    "\n",
    "# Use robust Hausa preprocessor\n",
    "preprocessor = HausaTextPreprocessor()\n",
    "train_df['tweet_clean'] = train_df['tweet_clean'].astype(str).apply(preprocessor.preprocess)\n",
    "val_df['tweet_clean'] = val_df['tweet_clean'].astype(str).apply(preprocessor.preprocess)\n",
    "\n",
    "# Prepare data\n",
    "X_train = train_df['tweet_clean']\n",
    "y_train = train_df['label']\n",
    "X_val = val_df['tweet_clean']\n",
    "y_val = val_df['label']\n",
    "\n",
    "# Encode labels if not already numeric\n",
    "if y_train.dtype == object:\n",
    "    label_encoder = LabelEncoder()\n",
    "    y_train = label_encoder.fit_transform(y_train)\n",
    "    y_val = label_encoder.transform(y_val)\n",
    "else:\n",
    "    label_encoder = None\n",
    "\n",
    "# Build pipeline (Logistic Regression as example)\n",
    "pipeline = Pipeline([\n",
    "    ('tfidf', TfidfVectorizer(max_features=10000, ngram_range=(1,2))),\n",
    "    ('clf', LogisticRegression(max_iter=1000, class_weight='balanced', random_state=42))\n",
    "])\n",
    "\n",
    "# Train\n",
    "pipeline.fit(X_train, y_train)\n",
    "\n",
    "# Evaluate\n",
    "val_preds = pipeline.predict(X_val)\n",
    "val_acc = accuracy_score(y_val, val_preds)\n",
    "val_f1 = f1_score(y_val, val_preds, average='macro')\n",
    "print(f\"Validation Accuracy: {val_acc:.4f}\")\n",
    "print(f\"Validation Macro F1: {val_f1:.4f}\")\n",
    "print(classification_report(y_val, val_preds))\n",
    "\n",
    "# Save model and label encoder\n",
    "os.makedirs('models/hausa_sentiment', exist_ok=True)\n",
    "joblib.dump(pipeline, 'models/hausa_sentiment/logreg_model.joblib')\n",
    "if label_encoder:\n",
    "    joblib.dump(label_encoder, 'models/hausa_sentiment/label_encoder.joblib')\n",
    "print('Model and encoder saved.')"
   ]
  },
  {
   "cell_type": "code",
   "execution_count": null,
   "id": "c572310c",
   "metadata": {},
   "outputs": [],
   "source": []
  }
 ],
 "metadata": {
  "kernelspec": {
   "display_name": "sentiment-analysis",
   "language": "python",
   "name": "python3"
  },
  "language_info": {
   "codemirror_mode": {
    "name": "ipython",
    "version": 3
   },
   "file_extension": ".py",
   "mimetype": "text/x-python",
   "name": "python",
   "nbconvert_exporter": "python",
   "pygments_lexer": "ipython3",
   "version": "3.10.16"
  }
 },
 "nbformat": 4,
 "nbformat_minor": 5
}
